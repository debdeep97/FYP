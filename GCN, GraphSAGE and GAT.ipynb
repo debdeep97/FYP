{
 "cells": [
  {
   "cell_type": "markdown",
   "id": "tired-snowboard",
   "metadata": {},
   "source": [
    "# GCN, GraphSAGE and GAT"
   ]
  },
  {
   "cell_type": "code",
   "execution_count": 1,
   "id": "banner-dryer",
   "metadata": {},
   "outputs": [],
   "source": [
    "# Import Libraries\n",
    "\n",
    "import numpy as np\n",
    "import pandas as pd\n",
    "import matplotlib.pyplot as plt\n",
    "\n",
    "# pytorch\n",
    "import torch\n",
    "import torch.nn as nn\n",
    "import torch.nn.functional as F\n",
    "import torch.optim as optim\n",
    "\n",
    "# pytorch geometric\n",
    "from torch_geometric.nn import GCNConv # GCN\n",
    "from torch_geometric.nn import SAGEConv # GraphSAGE\n",
    "from torch_geometric.nn import GATConv # GAT\n",
    "\n",
    "import torch_geometric.transforms as T\n",
    "\n",
    "from torch_geometric.datasets import Planetoid"
   ]
  },
  {
   "cell_type": "code",
   "execution_count": 2,
   "id": "coupled-latvia",
   "metadata": {},
   "outputs": [
    {
     "data": {
      "text/plain": [
       "<torch._C.Generator at 0x12a92aaf0>"
      ]
     },
     "execution_count": 2,
     "metadata": {},
     "output_type": "execute_result"
    }
   ],
   "source": [
    "# Seed\n",
    "torch.manual_seed(100)"
   ]
  },
  {
   "cell_type": "code",
   "execution_count": 3,
   "id": "sublime-stations",
   "metadata": {},
   "outputs": [],
   "source": [
    "# create dataframe to compile test accuracy and loss values of each model (for each dataset)\n",
    "\n",
    "models = ['GCN', 'GraphSAGE', 'GAT']\n",
    "\n",
    "cora_df = pd.DataFrame(models, columns = ['Model'])\n",
    "cora_df['Test Loss'] = 0.0\n",
    "cora_df['Test Accuracy'] = 0.0\n",
    "\n",
    "citeseer_df = pd.DataFrame(models, columns = ['Model'])\n",
    "citeseer_df['Test Loss'] = 0.0\n",
    "citeseer_df['Test Accuracy'] = 0.0"
   ]
  },
  {
   "cell_type": "markdown",
   "id": "a4f0f6cb",
   "metadata": {},
   "source": [
    "## Build Models"
   ]
  },
  {
   "cell_type": "code",
   "execution_count": 4,
   "id": "02821613",
   "metadata": {},
   "outputs": [],
   "source": [
    "# Build GCN\n",
    "\n",
    "class GCN(nn.Module):\n",
    "    def __init__(self, dataset, num_hidden, dropout):\n",
    "        super(GCN, self).__init__()\n",
    "        self.gc1 = GCNConv(dataset.num_features, num_hidden)\n",
    "        self.gc2 = GCNConv(num_hidden, dataset.num_classes)\n",
    "        self.dropout = dropout\n",
    "\n",
    "    def forward(self, data):\n",
    "        x, edge_index = data.x, data.edge_index\n",
    "        x = F.dropout(x, p=self.dropout, training=self.training)\n",
    "        x = self.gc1(x, edge_index)\n",
    "        x = F.relu(x)\n",
    "        x = F.dropout(x, p=self.dropout, training=self.training)\n",
    "        x = self.gc2(x, edge_index)\n",
    "        x = F.log_softmax(x, dim=1)\n",
    "        return x\n",
    "\n",
    "def build_gcn_model(dataset, num_hidden=16, dropout=0.5, lr=0.01, weight_decay=5e-4):\n",
    "    gcn_model = GCN(dataset, num_hidden, dropout)\n",
    "    gcn_optimizer = optim.Adam(gcn_model.parameters(), lr=lr, weight_decay=weight_decay)\n",
    "\n",
    "    return gcn_model, gcn_optimizer"
   ]
  },
  {
   "cell_type": "code",
   "execution_count": 5,
   "id": "b4d21649",
   "metadata": {},
   "outputs": [],
   "source": [
    "# Build GraphSAGE (Cora)\n",
    "\n",
    "class GraphSAGE(nn.Module):\n",
    "    def __init__(self, dataset, num_hidden, dropout):\n",
    "        super(GraphSAGE, self).__init__()\n",
    "        self.conv1 = SAGEConv(dataset.num_node_features, num_hidden)\n",
    "        self.conv2 = SAGEConv(num_hidden, dataset.num_classes)\n",
    "        self.dropout = dropout\n",
    "        \n",
    "    def forward(self, data):\n",
    "        x, edge_index = data.x, data.edge_index\n",
    "        x = F.dropout(x, p=self.dropout, training=self.training)\n",
    "        x = self.conv1(x, edge_index)\n",
    "        x = F.relu(x)\n",
    "        x = F.dropout(x, p=self.dropout, training=self.training)\n",
    "        x = self.conv2(x, edge_index)\n",
    "        x = F.softmax(x, dim=1)\n",
    "\n",
    "        return x\n",
    "\n",
    "def build_graphsage_model(dataset, num_hidden=16, dropout=0.5, lr=0.01, weight_decay=5e-4):\n",
    "    graphsage_model = GraphSAGE(dataset, num_hidden, dropout)\n",
    "    graphsage_optimizer = optim.Adam(graphsage_model.parameters(), lr=lr, weight_decay=weight_decay)\n",
    "\n",
    "    return graphsage_model, graphsage_optimizer"
   ]
  },
  {
   "cell_type": "code",
   "execution_count": 6,
   "id": "556ba461",
   "metadata": {},
   "outputs": [],
   "source": [
    "# Build GAT (Cora)\n",
    "\n",
    "class GAT(nn.Module):\n",
    "    def __init__(self, dataset, num_hidden, dropout):\n",
    "        super(GAT, self).__init__()\n",
    "        \n",
    "        self.in_head = 8\n",
    "        self.out_head = 1\n",
    "        \n",
    "        self.conv1 = GATConv(dataset.num_features, num_hidden, heads=self.in_head)\n",
    "        self.conv2 = GATConv(num_hidden*self.in_head, dataset.num_classes, concat=False,\n",
    "                             heads=self.out_head)\n",
    "        \n",
    "        self.dropout = dropout\n",
    "\n",
    "    def forward(self, data):\n",
    "        x, edge_index = data.x, data.edge_index\n",
    "        x = F.dropout(x, p=self.dropout, training=self.training)\n",
    "        x = self.conv1(x, edge_index)\n",
    "        x = F.relu(x)\n",
    "        x = F.dropout(x, p=self.dropout, training=self.training)\n",
    "        x = self.conv2(x, edge_index)\n",
    "        x = F.log_softmax(x, dim=1)\n",
    "        \n",
    "        return x\n",
    "\n",
    "def build_gat_model(dataset, num_hidden=16, dropout=0.5, lr=0.01, weight_decay=5e-4):\n",
    "    gat_model = GAT(dataset, num_hidden, dropout)\n",
    "    gat_optimizer = optim.Adam(gat_model.parameters(), lr=lr, weight_decay=weight_decay)\n",
    "\n",
    "    return gat_model, gat_optimizer"
   ]
  },
  {
   "cell_type": "markdown",
   "id": "ea4de927",
   "metadata": {},
   "source": [
    "## Cora Dataset"
   ]
  },
  {
   "cell_type": "code",
   "execution_count": 7,
   "id": "proper-progress",
   "metadata": {},
   "outputs": [],
   "source": [
    "# Import Cora\n",
    "\n",
    "cora_data = Planetoid(root = 'data/', name='Cora')"
   ]
  },
  {
   "cell_type": "code",
   "execution_count": 8,
   "id": "formed-reviewer",
   "metadata": {},
   "outputs": [],
   "source": [
    "cora_data.transform = T.NormalizeFeatures()"
   ]
  },
  {
   "cell_type": "code",
   "execution_count": 9,
   "id": "described-terrorism",
   "metadata": {},
   "outputs": [
    {
     "name": "stdout",
     "output_type": "stream",
     "text": [
      "Number of Classes in Cora Dataset: 7\n",
      "Number of Node Features in Cora Dataset: 1433\n"
     ]
    }
   ],
   "source": [
    "print(\"Number of Classes in Cora Dataset:\", cora_data.num_classes)\n",
    "print(\"Number of Node Features in Cora Dataset:\", cora_data.num_node_features)"
   ]
  },
  {
   "cell_type": "code",
   "execution_count": 10,
   "id": "awful-grass",
   "metadata": {},
   "outputs": [
    {
     "data": {
      "text/plain": [
       "Data(x=[2708, 1433], edge_index=[2, 10556], y=[2708], train_mask=[2708], val_mask=[2708], test_mask=[2708])"
      ]
     },
     "execution_count": 10,
     "metadata": {},
     "output_type": "execute_result"
    }
   ],
   "source": [
    "cora = cora_data[0]\n",
    "cora"
   ]
  },
  {
   "cell_type": "markdown",
   "id": "cbd72d8f",
   "metadata": {},
   "source": [
    "### Graph Convolutional Network (GCN)"
   ]
  },
  {
   "cell_type": "code",
   "execution_count": 11,
   "id": "relevant-africa",
   "metadata": {},
   "outputs": [],
   "source": [
    "# Build GCN (Cora)\n",
    "\n",
    "GCN_model, gcn_optimizer = build_gcn_model(cora_data, num_hidden=8, dropout=0.5, lr=0.05)\n",
    "criterion = nn.CrossEntropyLoss()"
   ]
  },
  {
   "cell_type": "code",
   "execution_count": 12,
   "id": "mighty-charm",
   "metadata": {},
   "outputs": [
    {
     "name": "stdout",
     "output_type": "stream",
     "text": [
      "Epoch 000:\n",
      "train_loss: 1.9455 train_acc: 0.1429\n",
      "val_loss: 1.9347 val_acc: 0.1310\n",
      "\n",
      "Epoch 005:\n",
      "train_loss: 1.8551 train_acc: 0.5571\n",
      "val_loss: 1.8595 val_acc: 0.4750\n",
      "\n",
      "Epoch 010:\n",
      "train_loss: 1.6929 train_acc: 0.6000\n",
      "val_loss: 1.7554 val_acc: 0.5720\n",
      "\n",
      "Epoch 015:\n",
      "train_loss: 1.4918 train_acc: 0.8214\n",
      "val_loss: 1.6155 val_acc: 0.6780\n",
      "\n",
      "Epoch 020:\n",
      "train_loss: 1.2818 train_acc: 0.8214\n",
      "val_loss: 1.4930 val_acc: 0.6600\n",
      "\n",
      "Epoch 025:\n",
      "train_loss: 1.0733 train_acc: 0.9000\n",
      "val_loss: 1.3750 val_acc: 0.6780\n",
      "\n",
      "Epoch 030:\n",
      "train_loss: 0.8811 train_acc: 0.9571\n",
      "val_loss: 1.2600 val_acc: 0.7040\n",
      "\n",
      "Epoch 035:\n",
      "train_loss: 0.7212 train_acc: 0.9714\n",
      "val_loss: 1.1552 val_acc: 0.7360\n",
      "\n",
      "Epoch 040:\n",
      "train_loss: 0.5993 train_acc: 0.9857\n",
      "val_loss: 1.0792 val_acc: 0.7480\n",
      "\n",
      "Epoch 045:\n",
      "train_loss: 0.5071 train_acc: 0.9857\n",
      "val_loss: 1.0162 val_acc: 0.7510\n",
      "\n",
      "Epoch 050:\n",
      "train_loss: 0.4391 train_acc: 0.9929\n",
      "val_loss: 0.9811 val_acc: 0.7450\n",
      "\n",
      "Epoch 055:\n",
      "train_loss: 0.3888 train_acc: 1.0000\n",
      "val_loss: 0.9457 val_acc: 0.7500\n",
      "\n",
      "Epoch 060:\n",
      "train_loss: 0.3488 train_acc: 1.0000\n",
      "val_loss: 0.9310 val_acc: 0.7450\n",
      "\n",
      "Epoch 065:\n",
      "train_loss: 0.3095 train_acc: 1.0000\n",
      "val_loss: 0.9087 val_acc: 0.7440\n",
      "\n",
      "Epoch 070:\n",
      "train_loss: 0.2717 train_acc: 1.0000\n",
      "val_loss: 0.8937 val_acc: 0.7440\n",
      "\n",
      "Epoch 075:\n",
      "train_loss: 0.2431 train_acc: 1.0000\n",
      "val_loss: 0.8721 val_acc: 0.7530\n",
      "\n",
      "Epoch 080:\n",
      "train_loss: 0.2191 train_acc: 1.0000\n",
      "val_loss: 0.8505 val_acc: 0.7540\n",
      "\n",
      "Epoch 085:\n",
      "train_loss: 0.1987 train_acc: 1.0000\n",
      "val_loss: 0.8275 val_acc: 0.7600\n",
      "\n",
      "Epoch 090:\n",
      "train_loss: 0.1825 train_acc: 1.0000\n",
      "val_loss: 0.8022 val_acc: 0.7650\n",
      "\n",
      "Epoch 095:\n",
      "train_loss: 0.1712 train_acc: 1.0000\n",
      "val_loss: 0.7941 val_acc: 0.7640\n",
      "\n",
      "Model Trained\n"
     ]
    }
   ],
   "source": [
    "# Train GCN Model (Cora)\n",
    "\n",
    "train_loss_arr = []\n",
    "train_acc_arr = []\n",
    "val_loss_arr = []\n",
    "val_acc_arr = []\n",
    "\n",
    "GCN_model.train()\n",
    "\n",
    "for epoch in range(100):\n",
    "    out = GCN_model(cora)\n",
    "    loss = criterion(out[cora.train_mask], cora.y[cora.train_mask])\n",
    "    gcn_optimizer.zero_grad()\n",
    "    loss.backward()\n",
    "    gcn_optimizer.step()\n",
    "\n",
    "    _, pred = torch.max(out[cora.train_mask], dim=1)\n",
    "    correct = (pred == cora.y[cora.train_mask]).sum().item()\n",
    "    acc = correct/cora.train_mask.sum().item()\n",
    "    \n",
    "    train_loss_arr.append(loss.item())\n",
    "    train_acc_arr.append(acc)\n",
    "    \n",
    "    if epoch%5 == 0:\n",
    "        print('Epoch {:03d}:'.format(epoch))\n",
    "        print('train_loss: {:.4f} train_acc: {:.4f}'.format(loss.item(), acc))\n",
    "        \n",
    "    GCN_model.eval()\n",
    "    out = GCN_model(cora)\n",
    "    loss = criterion(out[cora.test_mask], cora.y[cora.test_mask])\n",
    "    _, pred = torch.max(out[cora.test_mask], dim=1)\n",
    "    correct = (pred == cora.y[cora.test_mask]).sum().item()\n",
    "    acc = correct/cora.test_mask.sum().item()\n",
    "    \n",
    "    val_loss_arr.append(loss.item())\n",
    "    val_acc_arr.append(acc)\n",
    "    \n",
    "    if epoch%5 == 0:\n",
    "        print(\"val_loss: {:.4f} val_acc: {:.4f}\".format(loss.item(), acc))\n",
    "        print()\n",
    "        \n",
    "print(\"Model Trained\")"
   ]
  },
  {
   "cell_type": "code",
   "execution_count": 13,
   "id": "curious-philosophy",
   "metadata": {},
   "outputs": [
    {
     "data": {
      "text/plain": [
       "<matplotlib.legend.Legend at 0x13032a4c0>"
      ]
     },
     "execution_count": 13,
     "metadata": {},
     "output_type": "execute_result"
    },
    {
     "data": {
      "image/png": "[encoded data removed]",
      "text/plain": [
       "<Figure size 432x288 with 1 Axes>"
      ]
     },
     "metadata": {
      "needs_background": "light"
     },
     "output_type": "display_data"
    }
   ],
   "source": [
    "# Evaluate GCN Model (Cora)\n",
    "\n",
    "plt.figure(1)\n",
    "plt.plot(train_loss_arr)\n",
    "plt.plot(val_loss_arr)\n",
    "plt.title('model loss vs epochs')\n",
    "plt.ylabel('loss')\n",
    "plt.xlabel('epoch')\n",
    "plt.xticks([5, 10, 15, 20, 25, 30, 35, 40, 45, 50, 55, 60, 65, 70, 75, 80, 85, 90, 95, 100])\n",
    "plt.legend(['train', 'validation'], loc='upper left')"
   ]
  },
  {
   "cell_type": "code",
   "execution_count": 14,
   "id": "9de8bd6a",
   "metadata": {},
   "outputs": [
    {
     "data": {
      "text/plain": [
       "<matplotlib.legend.Legend at 0x12e4286a0>"
      ]
     },
     "execution_count": 14,
     "metadata": {},
     "output_type": "execute_result"
    },
    {
     "data": {
      "image/png": "[encoded data removed]",
      "text/plain": [
       "<Figure size 432x288 with 1 Axes>"
      ]
     },
     "metadata": {
      "needs_background": "light"
     },
     "output_type": "display_data"
    }
   ],
   "source": [
    "plt.figure(1)\n",
    "plt.plot(train_acc_arr)\n",
    "plt.plot(val_acc_arr)\n",
    "plt.title('model accuracy vs epochs')\n",
    "plt.ylabel('accuracy')\n",
    "plt.xlabel('epoch')\n",
    "plt.xticks([5, 10, 15, 20, 25, 30, 35, 40, 45, 50, 55, 60, 65, 70, 75, 80, 85, 90, 95, 100])\n",
    "plt.legend(['train', 'validation'], loc='upper left')"
   ]
  },
  {
   "cell_type": "code",
   "execution_count": 15,
   "id": "93fdfe77",
   "metadata": {},
   "outputs": [
    {
     "name": "stdout",
     "output_type": "stream",
     "text": [
      "test_loss: 0.7726 test_acc: 0.7750\n"
     ]
    }
   ],
   "source": [
    "print(\"test_loss: {:.4f} test_acc: {:.4f}\".format(loss.item(), acc))"
   ]
  },
  {
   "cell_type": "code",
   "execution_count": 16,
   "id": "d6c00113",
   "metadata": {},
   "outputs": [
    {
     "name": "stderr",
     "output_type": "stream",
     "text": [
      "/var/folders/1f/gg6wtk9n3yj9dh3mbt8dfd000000gn/T/ipykernel_5949/4106376664.py:3: SettingWithCopyWarning: \n",
      "A value is trying to be set on a copy of a slice from a DataFrame\n",
      "\n",
      "See the caveats in the documentation: https://pandas.pydata.org/pandas-docs/stable/user_guide/indexing.html#returning-a-view-versus-a-copy\n",
      "  cora_df['Test Loss'][0] = loss.item()\n",
      "/var/folders/1f/gg6wtk9n3yj9dh3mbt8dfd000000gn/T/ipykernel_5949/4106376664.py:4: SettingWithCopyWarning: \n",
      "A value is trying to be set on a copy of a slice from a DataFrame\n",
      "\n",
      "See the caveats in the documentation: https://pandas.pydata.org/pandas-docs/stable/user_guide/indexing.html#returning-a-view-versus-a-copy\n",
      "  cora_df['Test Accuracy'][0] = acc\n"
     ]
    }
   ],
   "source": [
    "# add test loss and accuracy values to table\n",
    "\n",
    "cora_df['Test Loss'][0] = loss.item()\n",
    "cora_df['Test Accuracy'][0] = acc"
   ]
  },
  {
   "cell_type": "markdown",
   "id": "29c04372",
   "metadata": {},
   "source": [
    "### GraphSAGE"
   ]
  },
  {
   "cell_type": "code",
   "execution_count": 17,
   "id": "portable-collectible",
   "metadata": {},
   "outputs": [],
   "source": [
    "# Build GraphSAGE (Cora)\n",
    "\n",
    "GraphSAGE_model, graphsage_optimizer = build_graphsage_model(cora_data, num_hidden=8, dropout=0.5, lr=0.05)\n",
    "criterion = nn.CrossEntropyLoss()"
   ]
  },
  {
   "cell_type": "code",
   "execution_count": 18,
   "id": "egyptian-royal",
   "metadata": {},
   "outputs": [
    {
     "name": "stdout",
     "output_type": "stream",
     "text": [
      "Epoch 000:\n",
      "train_loss: 1.9462 train_acc: 0.1429\n",
      "val_loss: 1.9365 val_acc: 0.3190\n",
      "\n",
      "Epoch 005:\n",
      "train_loss: 1.9099 train_acc: 0.5286\n",
      "val_loss: 1.9249 val_acc: 0.2360\n",
      "\n",
      "Epoch 010:\n",
      "train_loss: 1.7816 train_acc: 0.6857\n",
      "val_loss: 1.8674 val_acc: 0.3950\n",
      "\n",
      "Epoch 015:\n",
      "train_loss: 1.5558 train_acc: 0.8857\n",
      "val_loss: 1.7158 val_acc: 0.6860\n",
      "\n",
      "Epoch 020:\n",
      "train_loss: 1.3747 train_acc: 0.9643\n",
      "val_loss: 1.6130 val_acc: 0.7740\n",
      "\n",
      "Epoch 025:\n",
      "train_loss: 1.2863 train_acc: 0.9929\n",
      "val_loss: 1.5553 val_acc: 0.7740\n",
      "\n",
      "Epoch 030:\n",
      "train_loss: 1.2552 train_acc: 1.0000\n",
      "val_loss: 1.5308 val_acc: 0.7800\n",
      "\n",
      "Epoch 035:\n",
      "train_loss: 1.2386 train_acc: 1.0000\n",
      "val_loss: 1.5164 val_acc: 0.7890\n",
      "\n",
      "Epoch 040:\n",
      "train_loss: 1.2283 train_acc: 1.0000\n",
      "val_loss: 1.5100 val_acc: 0.7890\n",
      "\n",
      "Epoch 045:\n",
      "train_loss: 1.2216 train_acc: 1.0000\n",
      "val_loss: 1.5057 val_acc: 0.7920\n",
      "\n",
      "Epoch 050:\n",
      "train_loss: 1.2174 train_acc: 1.0000\n",
      "val_loss: 1.5032 val_acc: 0.7940\n",
      "\n",
      "Epoch 055:\n",
      "train_loss: 1.2143 train_acc: 1.0000\n",
      "val_loss: 1.5011 val_acc: 0.7940\n",
      "\n",
      "Epoch 060:\n",
      "train_loss: 1.2122 train_acc: 1.0000\n",
      "val_loss: 1.5015 val_acc: 0.7900\n",
      "\n",
      "Epoch 065:\n",
      "train_loss: 1.2107 train_acc: 1.0000\n",
      "val_loss: 1.5014 val_acc: 0.7870\n",
      "\n",
      "Epoch 070:\n",
      "train_loss: 1.2097 train_acc: 1.0000\n",
      "val_loss: 1.4994 val_acc: 0.7910\n",
      "\n",
      "Epoch 075:\n",
      "train_loss: 1.2088 train_acc: 1.0000\n",
      "val_loss: 1.5013 val_acc: 0.7970\n",
      "\n",
      "Epoch 080:\n",
      "train_loss: 1.2079 train_acc: 1.0000\n",
      "val_loss: 1.5026 val_acc: 0.7950\n",
      "\n",
      "Epoch 085:\n",
      "train_loss: 1.2076 train_acc: 1.0000\n",
      "val_loss: 1.5011 val_acc: 0.7990\n",
      "\n",
      "Epoch 090:\n",
      "train_loss: 1.2064 train_acc: 1.0000\n",
      "val_loss: 1.5002 val_acc: 0.7980\n",
      "\n",
      "Epoch 095:\n",
      "train_loss: 1.2057 train_acc: 1.0000\n",
      "val_loss: 1.5045 val_acc: 0.7880\n",
      "\n",
      "Model Trained\n"
     ]
    }
   ],
   "source": [
    "# Train GraphSAGE Model (Cora)\n",
    "\n",
    "train_loss_arr = []\n",
    "train_acc_arr = []\n",
    "val_loss_arr = []\n",
    "val_acc_arr = []\n",
    "\n",
    "GraphSAGE_model.train()\n",
    "\n",
    "for epoch in range(100):\n",
    "    out = GraphSAGE_model(cora)\n",
    "    loss = criterion(out[cora.train_mask], cora.y[cora.train_mask])\n",
    "    graphsage_optimizer.zero_grad()\n",
    "    loss.backward()\n",
    "    graphsage_optimizer.step()\n",
    "\n",
    "    _, pred = torch.max(out[cora.train_mask], dim=1)\n",
    "    correct = (pred == cora.y[cora.train_mask]).sum().item()\n",
    "    acc = correct/cora.train_mask.sum().item()\n",
    "    \n",
    "    train_loss_arr.append(loss.item())\n",
    "    train_acc_arr.append(acc)\n",
    "    \n",
    "    if epoch%5 == 0:\n",
    "        print('Epoch {:03d}:'.format(epoch))\n",
    "        print('train_loss: {:.4f} train_acc: {:.4f}'.format(loss.item(), acc))\n",
    "    \n",
    "    GraphSAGE_model.eval()\n",
    "    out = GraphSAGE_model(cora)\n",
    "    loss = criterion(out[cora.test_mask], cora.y[cora.test_mask])\n",
    "    _, pred = torch.max(out[cora.test_mask], dim=1)\n",
    "    correct = (pred == cora.y[cora.test_mask]).sum().item()\n",
    "    acc = correct/cora.test_mask.sum().item()\n",
    "    \n",
    "    val_loss_arr.append(loss.item())\n",
    "    val_acc_arr.append(acc)\n",
    "    \n",
    "    if epoch%5 == 0:\n",
    "        print(\"val_loss: {:.4f} val_acc: {:.4f}\".format(loss.item(), acc))\n",
    "        print()\n",
    "    \n",
    "print(\"Model Trained\")"
   ]
  },
  {
   "cell_type": "code",
   "execution_count": 19,
   "id": "d3744ba9",
   "metadata": {},
   "outputs": [
    {
     "data": {
      "text/plain": [
       "<matplotlib.legend.Legend at 0x12e604c10>"
      ]
     },
     "execution_count": 19,
     "metadata": {},
     "output_type": "execute_result"
    },
    {
     "data": {
      "image/png": "[encoded data removed]",
      "text/plain": [
       "<Figure size 432x288 with 1 Axes>"
      ]
     },
     "metadata": {
      "needs_background": "light"
     },
     "output_type": "display_data"
    }
   ],
   "source": [
    "# Evaluate GraphSAGE Model (Cora)\n",
    "\n",
    "plt.figure(1)\n",
    "plt.plot(train_loss_arr)\n",
    "plt.plot(val_loss_arr)\n",
    "plt.title('model loss vs epochs')\n",
    "plt.ylabel('loss')\n",
    "plt.xlabel('epoch')\n",
    "plt.xticks([5, 10, 15, 20, 25, 30, 35, 40, 45, 50, 55, 60, 65, 70, 75, 80, 85, 90, 95, 100])\n",
    "plt.legend(['train', 'validation'], loc='upper left')"
   ]
  },
  {
   "cell_type": "code",
   "execution_count": 20,
   "id": "9e90af4d",
   "metadata": {},
   "outputs": [
    {
     "data": {
      "text/plain": [
       "<matplotlib.legend.Legend at 0x12f6783a0>"
      ]
     },
     "execution_count": 20,
     "metadata": {},
     "output_type": "execute_result"
    },
    {
     "data": {
      "image/png": "[encoded data removed]",
      "text/plain": [
       "<Figure size 432x288 with 1 Axes>"
      ]
     },
     "metadata": {
      "needs_background": "light"
     },
     "output_type": "display_data"
    }
   ],
   "source": [
    "plt.figure(1)\n",
    "plt.plot(train_acc_arr)\n",
    "plt.plot(val_acc_arr)\n",
    "plt.title('model accuracy vs epochs')\n",
    "plt.ylabel('accuracy')\n",
    "plt.xlabel('epoch')\n",
    "plt.xticks([5, 10, 15, 20, 25, 30, 35, 40, 45, 50, 55, 60, 65, 70, 75, 80, 85, 90, 95, 100])\n",
    "plt.legend(['train', 'validation'], loc='upper left')"
   ]
  },
  {
   "cell_type": "code",
   "execution_count": 21,
   "id": "affected-looking",
   "metadata": {},
   "outputs": [
    {
     "name": "stdout",
     "output_type": "stream",
     "text": [
      "test_loss: 1.4999 test_acc: 0.7950\n"
     ]
    }
   ],
   "source": [
    "print(\"test_loss: {:.4f} test_acc: {:.4f}\".format(loss.item(), acc))"
   ]
  },
  {
   "cell_type": "code",
   "execution_count": 22,
   "id": "1f89910a",
   "metadata": {},
   "outputs": [
    {
     "name": "stderr",
     "output_type": "stream",
     "text": [
      "/var/folders/1f/gg6wtk9n3yj9dh3mbt8dfd000000gn/T/ipykernel_5949/4184785398.py:3: SettingWithCopyWarning: \n",
      "A value is trying to be set on a copy of a slice from a DataFrame\n",
      "\n",
      "See the caveats in the documentation: https://pandas.pydata.org/pandas-docs/stable/user_guide/indexing.html#returning-a-view-versus-a-copy\n",
      "  cora_df['Test Loss'][1] = loss.item()\n",
      "/var/folders/1f/gg6wtk9n3yj9dh3mbt8dfd000000gn/T/ipykernel_5949/4184785398.py:4: SettingWithCopyWarning: \n",
      "A value is trying to be set on a copy of a slice from a DataFrame\n",
      "\n",
      "See the caveats in the documentation: https://pandas.pydata.org/pandas-docs/stable/user_guide/indexing.html#returning-a-view-versus-a-copy\n",
      "  cora_df['Test Accuracy'][1] = acc\n"
     ]
    }
   ],
   "source": [
    "# add test loss and accuracy values to table\n",
    "\n",
    "cora_df['Test Loss'][1] = loss.item()\n",
    "cora_df['Test Accuracy'][1] = acc"
   ]
  },
  {
   "cell_type": "markdown",
   "id": "33a10326",
   "metadata": {},
   "source": [
    "### Graph Attention Network (GAT)"
   ]
  },
  {
   "cell_type": "code",
   "execution_count": 23,
   "id": "united-hormone",
   "metadata": {},
   "outputs": [],
   "source": [
    "# Build GAT (Cora)\n",
    "\n",
    "GAT_model, gat_optimizer = build_graphsage_model(cora_data, num_hidden=8, dropout=0.5, lr=0.05)\n",
    "criterion = nn.CrossEntropyLoss()"
   ]
  },
  {
   "cell_type": "code",
   "execution_count": 24,
   "id": "medieval-census",
   "metadata": {},
   "outputs": [
    {
     "name": "stdout",
     "output_type": "stream",
     "text": [
      "Epoch 000:\n",
      "train_loss: 1.9464 train_acc: 0.1429\n",
      "val_loss: 1.9442 val_acc: 0.1300\n",
      "\n",
      "Epoch 005:\n",
      "train_loss: 1.9046 train_acc: 0.4214\n",
      "val_loss: 1.9264 val_acc: 0.3300\n",
      "\n",
      "Epoch 010:\n",
      "train_loss: 1.7608 train_acc: 0.5571\n",
      "val_loss: 1.8505 val_acc: 0.4460\n",
      "\n",
      "Epoch 015:\n",
      "train_loss: 1.5767 train_acc: 0.7571\n",
      "val_loss: 1.7729 val_acc: 0.5290\n",
      "\n",
      "Epoch 020:\n",
      "train_loss: 1.4350 train_acc: 0.8643\n",
      "val_loss: 1.7195 val_acc: 0.5640\n",
      "\n",
      "Epoch 025:\n",
      "train_loss: 1.3649 train_acc: 0.8643\n",
      "val_loss: 1.6761 val_acc: 0.5590\n",
      "\n",
      "Epoch 030:\n",
      "train_loss: 1.2960 train_acc: 1.0000\n",
      "val_loss: 1.5796 val_acc: 0.7450\n",
      "\n",
      "Epoch 035:\n",
      "train_loss: 1.2382 train_acc: 1.0000\n",
      "val_loss: 1.5444 val_acc: 0.7640\n",
      "\n",
      "Epoch 040:\n",
      "train_loss: 1.2318 train_acc: 1.0000\n",
      "val_loss: 1.5283 val_acc: 0.7660\n",
      "\n",
      "Epoch 045:\n",
      "train_loss: 1.2208 train_acc: 1.0000\n",
      "val_loss: 1.5128 val_acc: 0.7740\n",
      "\n",
      "Epoch 050:\n",
      "train_loss: 1.2162 train_acc: 1.0000\n",
      "val_loss: 1.5081 val_acc: 0.7760\n",
      "\n",
      "Epoch 055:\n",
      "train_loss: 1.2126 train_acc: 1.0000\n",
      "val_loss: 1.5076 val_acc: 0.7760\n",
      "\n",
      "Epoch 060:\n",
      "train_loss: 1.2105 train_acc: 1.0000\n",
      "val_loss: 1.5059 val_acc: 0.7820\n",
      "\n",
      "Epoch 065:\n",
      "train_loss: 1.2091 train_acc: 1.0000\n",
      "val_loss: 1.5076 val_acc: 0.7840\n",
      "\n",
      "Epoch 070:\n",
      "train_loss: 1.2079 train_acc: 1.0000\n",
      "val_loss: 1.5079 val_acc: 0.7830\n",
      "\n",
      "Epoch 075:\n",
      "train_loss: 1.2073 train_acc: 1.0000\n",
      "val_loss: 1.5083 val_acc: 0.7830\n",
      "\n",
      "Epoch 080:\n",
      "train_loss: 1.2068 train_acc: 1.0000\n",
      "val_loss: 1.5077 val_acc: 0.7870\n",
      "\n",
      "Epoch 085:\n",
      "train_loss: 1.2065 train_acc: 1.0000\n",
      "val_loss: 1.5071 val_acc: 0.7890\n",
      "\n",
      "Epoch 090:\n",
      "train_loss: 1.2064 train_acc: 1.0000\n",
      "val_loss: 1.5071 val_acc: 0.7910\n",
      "\n",
      "Epoch 095:\n",
      "train_loss: 1.2063 train_acc: 1.0000\n",
      "val_loss: 1.5085 val_acc: 0.7910\n",
      "\n",
      "Model Trained\n"
     ]
    }
   ],
   "source": [
    "# Train GAT Model (Cora)\n",
    "\n",
    "train_loss_arr = []\n",
    "train_acc_arr = []\n",
    "val_loss_arr = []\n",
    "val_acc_arr = []\n",
    "\n",
    "GAT_model.train()\n",
    "\n",
    "# epochs\n",
    "for epoch in range(100):\n",
    "    out = GAT_model(cora)\n",
    "    loss = criterion(out[cora.train_mask], cora.y[cora.train_mask])\n",
    "    gat_optimizer.zero_grad()\n",
    "    loss.backward()\n",
    "    gat_optimizer.step()\n",
    "    \n",
    "    _, pred = torch.max(out[cora.train_mask], dim=1)\n",
    "    correct = (pred == cora.y[cora.train_mask]).sum().item()\n",
    "    acc = correct/cora.train_mask.sum().item()\n",
    "    \n",
    "    train_loss_arr.append(loss.item())\n",
    "    train_acc_arr.append(acc)\n",
    "    \n",
    "    if epoch%5 == 0:\n",
    "        print('Epoch {:03d}:'.format(epoch))\n",
    "        print('train_loss: {:.4f} train_acc: {:.4f}'.format(loss.item(), acc))\n",
    "        \n",
    "    GAT_model.eval()\n",
    "    out = GAT_model(cora)\n",
    "    loss = criterion(out[cora.test_mask], cora.y[cora.test_mask])\n",
    "    _, pred = torch.max(out[cora.test_mask], dim=1)\n",
    "    correct = (pred == cora.y[cora.test_mask]).sum().item()\n",
    "    acc = correct / cora.test_mask.sum().item()\n",
    "    \n",
    "    val_loss_arr.append(loss.item())\n",
    "    val_acc_arr.append(acc)\n",
    "    \n",
    "    if epoch%5 == 0:\n",
    "        print(\"val_loss: {:.4f} val_acc: {:.4f}\".format(loss.item(), acc))\n",
    "        print()\n",
    "        \n",
    "print(\"Model Trained\")"
   ]
  },
  {
   "cell_type": "code",
   "execution_count": 25,
   "id": "musical-variable",
   "metadata": {},
   "outputs": [
    {
     "data": {
      "text/plain": [
       "<matplotlib.legend.Legend at 0x12f850820>"
      ]
     },
     "execution_count": 25,
     "metadata": {},
     "output_type": "execute_result"
    },
    {
     "data": {
      "image/png": "[encoded data removed]",
      "text/plain": [
       "<Figure size 432x288 with 1 Axes>"
      ]
     },
     "metadata": {
      "needs_background": "light"
     },
     "output_type": "display_data"
    }
   ],
   "source": [
    "# Evaluate GAT Model (Cora)\n",
    "\n",
    "plt.figure(1)\n",
    "plt.plot(train_loss_arr)\n",
    "plt.plot(val_loss_arr)\n",
    "plt.title('model loss vs epochs')\n",
    "plt.ylabel('loss')\n",
    "plt.xlabel('epoch')\n",
    "plt.xticks([5, 10, 15, 20, 25, 30, 35, 40, 45, 50, 55, 60, 65, 70, 75, 80, 85, 90, 95, 100])\n",
    "plt.legend(['train', 'validation'], loc='upper left')"
   ]
  },
  {
   "cell_type": "code",
   "execution_count": 26,
   "id": "ecc36aca",
   "metadata": {},
   "outputs": [
    {
     "data": {
      "text/plain": [
       "<matplotlib.legend.Legend at 0x12f97bd90>"
      ]
     },
     "execution_count": 26,
     "metadata": {},
     "output_type": "execute_result"
    },
    {
     "data": {
      "image/png": "[encoded data removed]",
      "text/plain": [
       "<Figure size 432x288 with 1 Axes>"
      ]
     },
     "metadata": {
      "needs_background": "light"
     },
     "output_type": "display_data"
    }
   ],
   "source": [
    "plt.figure(1)\n",
    "plt.plot(train_acc_arr)\n",
    "plt.plot(val_acc_arr)\n",
    "plt.title('model accuracy vs epochs')\n",
    "plt.ylabel('accuracy')\n",
    "plt.xlabel('epoch')\n",
    "plt.xticks([5, 10, 15, 20, 25, 30, 35, 40, 45, 50, 55, 60, 65, 70, 75, 80, 85, 90, 95, 100])\n",
    "plt.legend(['train', 'validation'], loc='upper left')"
   ]
  },
  {
   "cell_type": "code",
   "execution_count": 27,
   "id": "09080487",
   "metadata": {},
   "outputs": [
    {
     "name": "stdout",
     "output_type": "stream",
     "text": [
      "test_loss: 1.5083 test_acc: 0.7910\n"
     ]
    }
   ],
   "source": [
    "print(\"test_loss: {:.4f} test_acc: {:.4f}\".format(loss.item(), acc))"
   ]
  },
  {
   "cell_type": "code",
   "execution_count": 28,
   "id": "e4d4b1ea",
   "metadata": {},
   "outputs": [
    {
     "name": "stderr",
     "output_type": "stream",
     "text": [
      "/var/folders/1f/gg6wtk9n3yj9dh3mbt8dfd000000gn/T/ipykernel_5949/236544870.py:3: SettingWithCopyWarning: \n",
      "A value is trying to be set on a copy of a slice from a DataFrame\n",
      "\n",
      "See the caveats in the documentation: https://pandas.pydata.org/pandas-docs/stable/user_guide/indexing.html#returning-a-view-versus-a-copy\n",
      "  cora_df['Test Loss'][2] = loss.item()\n",
      "/var/folders/1f/gg6wtk9n3yj9dh3mbt8dfd000000gn/T/ipykernel_5949/236544870.py:4: SettingWithCopyWarning: \n",
      "A value is trying to be set on a copy of a slice from a DataFrame\n",
      "\n",
      "See the caveats in the documentation: https://pandas.pydata.org/pandas-docs/stable/user_guide/indexing.html#returning-a-view-versus-a-copy\n",
      "  cora_df['Test Accuracy'][2] = acc\n"
     ]
    }
   ],
   "source": [
    "# add test loss and accuracy values to table\n",
    "\n",
    "cora_df['Test Loss'][2] = loss.item()\n",
    "cora_df['Test Accuracy'][2] = acc"
   ]
  },
  {
   "cell_type": "code",
   "execution_count": 29,
   "id": "2c1416d7",
   "metadata": {},
   "outputs": [
    {
     "name": "stdout",
     "output_type": "stream",
     "text": [
      "       Model  Test Loss  Test Accuracy\n",
      "0        GCN   0.772594          0.775\n",
      "1  GraphSAGE   1.499864          0.795\n",
      "2        GAT   1.508257          0.791\n"
     ]
    }
   ],
   "source": [
    "print(cora_df)"
   ]
  },
  {
   "cell_type": "markdown",
   "id": "2bcabe32",
   "metadata": {},
   "source": [
    "## CiteSeer Dataset"
   ]
  },
  {
   "cell_type": "code",
   "execution_count": 30,
   "id": "patent-melissa",
   "metadata": {},
   "outputs": [],
   "source": [
    "# Import CiteSeer\n",
    "\n",
    "citeseer_data = Planetoid(root = 'data/', name='CiteSeer')"
   ]
  },
  {
   "cell_type": "code",
   "execution_count": 31,
   "id": "bd99d9a5",
   "metadata": {},
   "outputs": [],
   "source": [
    "citeseer_data.transform = T.NormalizeFeatures()"
   ]
  },
  {
   "cell_type": "code",
   "execution_count": 32,
   "id": "deccaf58",
   "metadata": {},
   "outputs": [
    {
     "name": "stdout",
     "output_type": "stream",
     "text": [
      "Number of Classes in CiteSeer Dataset: 6\n",
      "Number of Node Features in CiteSeer Dataset: 3703\n"
     ]
    }
   ],
   "source": [
    "print(\"Number of Classes in CiteSeer Dataset:\", citeseer_data.num_classes)\n",
    "print(\"Number of Node Features in CiteSeer Dataset:\", citeseer_data.num_node_features)"
   ]
  },
  {
   "cell_type": "code",
   "execution_count": 33,
   "id": "c46bc47f",
   "metadata": {},
   "outputs": [
    {
     "data": {
      "text/plain": [
       "Data(x=[3327, 3703], edge_index=[2, 9104], y=[3327], train_mask=[3327], val_mask=[3327], test_mask=[3327])"
      ]
     },
     "execution_count": 33,
     "metadata": {},
     "output_type": "execute_result"
    }
   ],
   "source": [
    "citeseer = citeseer_data[0]\n",
    "citeseer"
   ]
  },
  {
   "cell_type": "markdown",
   "id": "b7994684",
   "metadata": {},
   "source": [
    "### Graph Convolutional Network (GCN)"
   ]
  },
  {
   "cell_type": "code",
   "execution_count": 34,
   "id": "02ace4c6",
   "metadata": {},
   "outputs": [],
   "source": [
    "# Build GCN (CiteSeer)\n",
    "\n",
    "GCN_model, gcn_optimizer = build_gcn_model(citeseer_data, num_hidden=8, dropout=0.5, lr=0.05)\n",
    "criterion = nn.CrossEntropyLoss()"
   ]
  },
  {
   "cell_type": "code",
   "execution_count": 35,
   "id": "5206f9b6",
   "metadata": {},
   "outputs": [
    {
     "name": "stdout",
     "output_type": "stream",
     "text": [
      "Epoch 000:\n",
      "train_loss: 1.7917 train_acc: 0.1583\n",
      "val_loss: 1.7846 val_acc: 0.1690\n",
      "\n",
      "Epoch 005:\n",
      "train_loss: 1.7055 train_acc: 0.6250\n",
      "val_loss: 1.7490 val_acc: 0.3120\n",
      "\n",
      "Epoch 010:\n",
      "train_loss: 1.5563 train_acc: 0.6583\n",
      "val_loss: 1.6760 val_acc: 0.4820\n",
      "\n",
      "Epoch 015:\n",
      "train_loss: 1.3605 train_acc: 0.7417\n",
      "val_loss: 1.5843 val_acc: 0.5190\n",
      "\n",
      "Epoch 020:\n",
      "train_loss: 1.1578 train_acc: 0.7917\n",
      "val_loss: 1.4801 val_acc: 0.5620\n",
      "\n",
      "Epoch 025:\n",
      "train_loss: 0.9841 train_acc: 0.8250\n",
      "val_loss: 1.3877 val_acc: 0.6060\n",
      "\n",
      "Epoch 030:\n",
      "train_loss: 0.8506 train_acc: 0.8583\n",
      "val_loss: 1.3057 val_acc: 0.6180\n",
      "\n",
      "Epoch 035:\n",
      "train_loss: 0.7496 train_acc: 0.8833\n",
      "val_loss: 1.2444 val_acc: 0.6550\n",
      "\n",
      "Epoch 040:\n",
      "train_loss: 0.6734 train_acc: 0.9083\n",
      "val_loss: 1.1921 val_acc: 0.6580\n",
      "\n",
      "Epoch 045:\n",
      "train_loss: 0.6137 train_acc: 0.9000\n",
      "val_loss: 1.1622 val_acc: 0.6610\n",
      "\n",
      "Epoch 050:\n",
      "train_loss: 0.5594 train_acc: 0.9250\n",
      "val_loss: 1.1216 val_acc: 0.6720\n",
      "\n",
      "Epoch 055:\n",
      "train_loss: 0.5080 train_acc: 0.9667\n",
      "val_loss: 1.1008 val_acc: 0.6790\n",
      "\n",
      "Epoch 060:\n",
      "train_loss: 0.4563 train_acc: 0.9667\n",
      "val_loss: 1.0797 val_acc: 0.6860\n",
      "\n",
      "Epoch 065:\n",
      "train_loss: 0.4082 train_acc: 0.9667\n",
      "val_loss: 1.0629 val_acc: 0.6840\n",
      "\n",
      "Epoch 070:\n",
      "train_loss: 0.3696 train_acc: 0.9667\n",
      "val_loss: 1.0544 val_acc: 0.6780\n",
      "\n",
      "Epoch 075:\n",
      "train_loss: 0.3394 train_acc: 0.9667\n",
      "val_loss: 1.0450 val_acc: 0.6830\n",
      "\n",
      "Epoch 080:\n",
      "train_loss: 0.3163 train_acc: 0.9750\n",
      "val_loss: 1.0423 val_acc: 0.6810\n",
      "\n",
      "Epoch 085:\n",
      "train_loss: 0.2977 train_acc: 0.9750\n",
      "val_loss: 1.0358 val_acc: 0.6800\n",
      "\n",
      "Epoch 090:\n",
      "train_loss: 0.2825 train_acc: 0.9833\n",
      "val_loss: 1.0261 val_acc: 0.6820\n",
      "\n",
      "Epoch 095:\n",
      "train_loss: 0.2657 train_acc: 0.9917\n",
      "val_loss: 1.0209 val_acc: 0.6770\n",
      "\n",
      "Model Trained\n"
     ]
    }
   ],
   "source": [
    "# Train GCN Model (CiteSeer)\n",
    "\n",
    "train_loss_arr = []\n",
    "train_acc_arr = []\n",
    "val_loss_arr = []\n",
    "val_acc_arr = []\n",
    "\n",
    "GCN_model.train()\n",
    "\n",
    "for epoch in range(100):\n",
    "    out = GCN_model(citeseer)\n",
    "    loss = criterion(out[citeseer.train_mask], citeseer.y[citeseer.train_mask])\n",
    "    gcn_optimizer.zero_grad()\n",
    "    loss.backward()\n",
    "    gcn_optimizer.step()\n",
    "\n",
    "    _, pred = torch.max(out[citeseer.train_mask], dim=1)\n",
    "    correct = (pred == citeseer.y[citeseer.train_mask]).sum().item()\n",
    "    acc = correct/citeseer.train_mask.sum().item()\n",
    "    \n",
    "    train_loss_arr.append(loss.item())\n",
    "    train_acc_arr.append(acc)\n",
    "    \n",
    "    if epoch%5 == 0:\n",
    "        print('Epoch {:03d}:'.format(epoch))\n",
    "        print('train_loss: {:.4f} train_acc: {:.4f}'.format(loss.item(), acc))\n",
    "        \n",
    "    GCN_model.eval()\n",
    "    out = GCN_model(citeseer)\n",
    "    loss = criterion(out[citeseer.test_mask], citeseer.y[citeseer.test_mask])\n",
    "    _, pred = torch.max(out[citeseer.test_mask], dim=1)\n",
    "    correct = (pred == citeseer.y[citeseer.test_mask]).sum().item()\n",
    "    acc = correct/citeseer.test_mask.sum().item()\n",
    "    \n",
    "    val_loss_arr.append(loss.item())\n",
    "    val_acc_arr.append(acc)\n",
    "    \n",
    "    if epoch%5 == 0:\n",
    "        print(\"val_loss: {:.4f} val_acc: {:.4f}\".format(loss.item(), acc))\n",
    "        print()\n",
    "        \n",
    "print(\"Model Trained\")"
   ]
  },
  {
   "cell_type": "code",
   "execution_count": 36,
   "id": "9a65697e",
   "metadata": {},
   "outputs": [
    {
     "data": {
      "text/plain": [
       "<matplotlib.legend.Legend at 0x12fb6bdc0>"
      ]
     },
     "execution_count": 36,
     "metadata": {},
     "output_type": "execute_result"
    },
    {
     "data": {
      "image/png": "[encoded data removed]",
      "text/plain": [
       "<Figure size 432x288 with 1 Axes>"
      ]
     },
     "metadata": {
      "needs_background": "light"
     },
     "output_type": "display_data"
    }
   ],
   "source": [
    "# Evaluate GCN Model (CiteSeer)\n",
    "\n",
    "plt.figure(1)\n",
    "plt.plot(train_loss_arr)\n",
    "plt.plot(val_loss_arr)\n",
    "plt.title('model loss vs epochs')\n",
    "plt.ylabel('loss')\n",
    "plt.xlabel('epoch')\n",
    "plt.xticks([5, 10, 15, 20, 25, 30, 35, 40, 45, 50, 55, 60, 65, 70, 75, 80, 85, 90, 95, 100])\n",
    "plt.legend(['train', 'validation'], loc='upper left')"
   ]
  },
  {
   "cell_type": "code",
   "execution_count": 37,
   "id": "ac0c925e",
   "metadata": {},
   "outputs": [
    {
     "data": {
      "text/plain": [
       "<matplotlib.legend.Legend at 0x12e838610>"
      ]
     },
     "execution_count": 37,
     "metadata": {},
     "output_type": "execute_result"
    },
    {
     "data": {
      "image/png": "[encoded data removed]",
      "text/plain": [
       "<Figure size 432x288 with 1 Axes>"
      ]
     },
     "metadata": {
      "needs_background": "light"
     },
     "output_type": "display_data"
    }
   ],
   "source": [
    "plt.figure(1)\n",
    "plt.plot(train_acc_arr)\n",
    "plt.plot(val_acc_arr)\n",
    "plt.title('model accuracy vs epochs')\n",
    "plt.ylabel('accuracy')\n",
    "plt.xlabel('epoch')\n",
    "plt.xticks([5, 10, 15, 20, 25, 30, 35, 40, 45, 50, 55, 60, 65, 70, 75, 80, 85, 90, 95, 100])\n",
    "plt.legend(['train', 'validation'], loc='upper left')"
   ]
  },
  {
   "cell_type": "code",
   "execution_count": 38,
   "id": "44b5a09d",
   "metadata": {},
   "outputs": [
    {
     "name": "stdout",
     "output_type": "stream",
     "text": [
      "test_loss: 1.0076 test_acc: 0.6860\n"
     ]
    }
   ],
   "source": [
    "print(\"test_loss: {:.4f} test_acc: {:.4f}\".format(loss.item(), acc))"
   ]
  },
  {
   "cell_type": "code",
   "execution_count": 39,
   "id": "cb6ffb83",
   "metadata": {},
   "outputs": [
    {
     "name": "stderr",
     "output_type": "stream",
     "text": [
      "/var/folders/1f/gg6wtk9n3yj9dh3mbt8dfd000000gn/T/ipykernel_5949/368259315.py:3: SettingWithCopyWarning: \n",
      "A value is trying to be set on a copy of a slice from a DataFrame\n",
      "\n",
      "See the caveats in the documentation: https://pandas.pydata.org/pandas-docs/stable/user_guide/indexing.html#returning-a-view-versus-a-copy\n",
      "  citeseer_df['Test Loss'][0] = loss.item()\n",
      "/var/folders/1f/gg6wtk9n3yj9dh3mbt8dfd000000gn/T/ipykernel_5949/368259315.py:4: SettingWithCopyWarning: \n",
      "A value is trying to be set on a copy of a slice from a DataFrame\n",
      "\n",
      "See the caveats in the documentation: https://pandas.pydata.org/pandas-docs/stable/user_guide/indexing.html#returning-a-view-versus-a-copy\n",
      "  citeseer_df['Test Accuracy'][0] = acc\n"
     ]
    }
   ],
   "source": [
    "# add test loss and accuracy values to table\n",
    "\n",
    "citeseer_df['Test Loss'][0] = loss.item()\n",
    "citeseer_df['Test Accuracy'][0] = acc"
   ]
  },
  {
   "cell_type": "markdown",
   "id": "5ede0193",
   "metadata": {},
   "source": [
    "### GraphSAGE"
   ]
  },
  {
   "cell_type": "code",
   "execution_count": 40,
   "id": "14c3d9dc",
   "metadata": {},
   "outputs": [],
   "source": [
    "# Build GraphSAGE (CiteSeer)\n",
    "\n",
    "GraphSAGE_model, graphsage_optimizer = build_graphsage_model(citeseer_data, num_hidden=8, dropout=0.5, lr=0.05)\n",
    "criterion = nn.CrossEntropyLoss()"
   ]
  },
  {
   "cell_type": "code",
   "execution_count": 41,
   "id": "egyptian-royal",
   "metadata": {},
   "outputs": [
    {
     "name": "stdout",
     "output_type": "stream",
     "text": [
      "Epoch 000:\n",
      "train_loss: 1.7920 train_acc: 0.1667\n",
      "val_loss: 1.7918 val_acc: 0.1820\n",
      "\n",
      "Epoch 005:\n",
      "train_loss: 1.7732 train_acc: 0.3417\n",
      "val_loss: 1.7852 val_acc: 0.2240\n",
      "\n",
      "Epoch 010:\n",
      "train_loss: 1.6971 train_acc: 0.4667\n",
      "val_loss: 1.7491 val_acc: 0.2980\n",
      "\n",
      "Epoch 015:\n",
      "train_loss: 1.5204 train_acc: 0.8417\n",
      "val_loss: 1.6803 val_acc: 0.5130\n",
      "\n",
      "Epoch 020:\n",
      "train_loss: 1.3382 train_acc: 0.9583\n",
      "val_loss: 1.5968 val_acc: 0.6790\n",
      "\n",
      "Epoch 025:\n",
      "train_loss: 1.2208 train_acc: 1.0000\n",
      "val_loss: 1.5509 val_acc: 0.6960\n",
      "\n",
      "Epoch 030:\n",
      "train_loss: 1.1645 train_acc: 1.0000\n",
      "val_loss: 1.5202 val_acc: 0.6990\n",
      "\n",
      "Epoch 035:\n",
      "train_loss: 1.1391 train_acc: 1.0000\n",
      "val_loss: 1.5067 val_acc: 0.6950\n",
      "\n",
      "Epoch 040:\n",
      "train_loss: 1.1228 train_acc: 1.0000\n",
      "val_loss: 1.5001 val_acc: 0.6930\n",
      "\n",
      "Epoch 045:\n",
      "train_loss: 1.1137 train_acc: 1.0000\n",
      "val_loss: 1.4943 val_acc: 0.6920\n",
      "\n",
      "Epoch 050:\n",
      "train_loss: 1.1069 train_acc: 1.0000\n",
      "val_loss: 1.4901 val_acc: 0.6920\n",
      "\n",
      "Epoch 055:\n",
      "train_loss: 1.1024 train_acc: 1.0000\n",
      "val_loss: 1.4897 val_acc: 0.6890\n",
      "\n",
      "Epoch 060:\n",
      "train_loss: 1.0995 train_acc: 1.0000\n",
      "val_loss: 1.4867 val_acc: 0.6980\n",
      "\n",
      "Epoch 065:\n",
      "train_loss: 1.0972 train_acc: 1.0000\n",
      "val_loss: 1.4861 val_acc: 0.7030\n",
      "\n",
      "Epoch 070:\n",
      "train_loss: 1.0955 train_acc: 1.0000\n",
      "val_loss: 1.4881 val_acc: 0.6990\n",
      "\n",
      "Epoch 075:\n",
      "train_loss: 1.0946 train_acc: 1.0000\n",
      "val_loss: 1.4883 val_acc: 0.6990\n",
      "\n",
      "Epoch 080:\n",
      "train_loss: 1.0938 train_acc: 1.0000\n",
      "val_loss: 1.4886 val_acc: 0.6960\n",
      "\n",
      "Epoch 085:\n",
      "train_loss: 1.0934 train_acc: 1.0000\n",
      "val_loss: 1.4899 val_acc: 0.6970\n",
      "\n",
      "Epoch 090:\n",
      "train_loss: 1.0932 train_acc: 1.0000\n",
      "val_loss: 1.4920 val_acc: 0.6940\n",
      "\n",
      "Epoch 095:\n",
      "train_loss: 1.0929 train_acc: 1.0000\n",
      "val_loss: 1.4928 val_acc: 0.6950\n",
      "\n",
      "Model Trained\n"
     ]
    }
   ],
   "source": [
    "# Train GraphSAGE Model (CiteSeer)\n",
    "\n",
    "train_loss_arr = []\n",
    "train_acc_arr = []\n",
    "val_loss_arr = []\n",
    "val_acc_arr = []\n",
    "\n",
    "GraphSAGE_model.train()\n",
    "\n",
    "for epoch in range(100):\n",
    "    out = GraphSAGE_model(citeseer)\n",
    "    loss = criterion(out[citeseer.train_mask], citeseer.y[citeseer.train_mask])\n",
    "    graphsage_optimizer.zero_grad()\n",
    "    loss.backward()\n",
    "    graphsage_optimizer.step()\n",
    "\n",
    "    _, pred = torch.max(out[citeseer.train_mask], dim=1)\n",
    "    correct = (pred == citeseer.y[citeseer.train_mask]).sum().item()\n",
    "    acc = correct/citeseer.train_mask.sum().item()\n",
    "    \n",
    "    train_loss_arr.append(loss.item())\n",
    "    train_acc_arr.append(acc)\n",
    "    \n",
    "    if epoch%5 == 0:\n",
    "        print('Epoch {:03d}:'.format(epoch))\n",
    "        print('train_loss: {:.4f} train_acc: {:.4f}'.format(loss.item(), acc))\n",
    "    \n",
    "    GraphSAGE_model.eval()\n",
    "    out = GraphSAGE_model(citeseer)\n",
    "    loss = criterion(out[citeseer.test_mask], citeseer.y[citeseer.test_mask])\n",
    "    _, pred = torch.max(out[citeseer.test_mask], dim=1)\n",
    "    correct = (pred == citeseer.y[citeseer.test_mask]).sum().item()\n",
    "    acc = correct/citeseer.test_mask.sum().item()\n",
    "    \n",
    "    val_loss_arr.append(loss.item())\n",
    "    val_acc_arr.append(acc)\n",
    "    \n",
    "    if epoch%5 == 0:\n",
    "        print(\"val_loss: {:.4f} val_acc: {:.4f}\".format(loss.item(), acc))\n",
    "        print()\n",
    "    \n",
    "print(\"Model Trained\")"
   ]
  },
  {
   "cell_type": "code",
   "execution_count": 42,
   "id": "a52fa558",
   "metadata": {},
   "outputs": [
    {
     "data": {
      "text/plain": [
       "<matplotlib.legend.Legend at 0x12e9a8a30>"
      ]
     },
     "execution_count": 42,
     "metadata": {},
     "output_type": "execute_result"
    },
    {
     "data": {
      "image/png": "[encoded data removed]",
      "text/plain": [
       "<Figure size 432x288 with 1 Axes>"
      ]
     },
     "metadata": {
      "needs_background": "light"
     },
     "output_type": "display_data"
    }
   ],
   "source": [
    "# Evaluate GraphSAGE Model (CiteSeer)\n",
    "\n",
    "plt.figure(1)\n",
    "plt.plot(train_loss_arr)\n",
    "plt.plot(val_loss_arr)\n",
    "plt.title('model loss vs epochs')\n",
    "plt.ylabel('loss')\n",
    "plt.xlabel('epoch')\n",
    "plt.xticks([5, 10, 15, 20, 25, 30, 35, 40, 45, 50, 55, 60, 65, 70, 75, 80, 85, 90, 95, 100])\n",
    "plt.legend(['train', 'validation'], loc='upper left')"
   ]
  },
  {
   "cell_type": "code",
   "execution_count": 43,
   "id": "a822f58d",
   "metadata": {},
   "outputs": [
    {
     "data": {
      "text/plain": [
       "<matplotlib.legend.Legend at 0x12ec23fa0>"
      ]
     },
     "execution_count": 43,
     "metadata": {},
     "output_type": "execute_result"
    },
    {
     "data": {
      "image/png": "[encoded data removed]",
      "text/plain": [
       "<Figure size 432x288 with 1 Axes>"
      ]
     },
     "metadata": {
      "needs_background": "light"
     },
     "output_type": "display_data"
    }
   ],
   "source": [
    "plt.figure(1)\n",
    "plt.plot(train_acc_arr)\n",
    "plt.plot(val_acc_arr)\n",
    "plt.title('model accuracy vs epochs')\n",
    "plt.ylabel('accuracy')\n",
    "plt.xlabel('epoch')\n",
    "plt.xticks([5, 10, 15, 20, 25, 30, 35, 40, 45, 50, 55, 60, 65, 70, 75, 80, 85, 90, 95, 100])\n",
    "plt.legend(['train', 'validation'], loc='upper left')"
   ]
  },
  {
   "cell_type": "code",
   "execution_count": 44,
   "id": "affected-looking",
   "metadata": {},
   "outputs": [
    {
     "name": "stdout",
     "output_type": "stream",
     "text": [
      "test_loss: 1.4921 test_acc: 0.6950\n"
     ]
    }
   ],
   "source": [
    "print(\"test_loss: {:.4f} test_acc: {:.4f}\".format(loss.item(), acc))"
   ]
  },
  {
   "cell_type": "code",
   "execution_count": 45,
   "id": "adf3a4b9",
   "metadata": {},
   "outputs": [
    {
     "name": "stderr",
     "output_type": "stream",
     "text": [
      "/var/folders/1f/gg6wtk9n3yj9dh3mbt8dfd000000gn/T/ipykernel_5949/1529784203.py:3: SettingWithCopyWarning: \n",
      "A value is trying to be set on a copy of a slice from a DataFrame\n",
      "\n",
      "See the caveats in the documentation: https://pandas.pydata.org/pandas-docs/stable/user_guide/indexing.html#returning-a-view-versus-a-copy\n",
      "  citeseer_df['Test Loss'][1] = loss.item()\n",
      "/var/folders/1f/gg6wtk9n3yj9dh3mbt8dfd000000gn/T/ipykernel_5949/1529784203.py:4: SettingWithCopyWarning: \n",
      "A value is trying to be set on a copy of a slice from a DataFrame\n",
      "\n",
      "See the caveats in the documentation: https://pandas.pydata.org/pandas-docs/stable/user_guide/indexing.html#returning-a-view-versus-a-copy\n",
      "  citeseer_df['Test Accuracy'][1] = acc\n"
     ]
    }
   ],
   "source": [
    "# add test loss and accuracy values to table\n",
    "\n",
    "citeseer_df['Test Loss'][1] = loss.item()\n",
    "citeseer_df['Test Accuracy'][1] = acc"
   ]
  },
  {
   "cell_type": "markdown",
   "id": "5a4af36a",
   "metadata": {},
   "source": [
    "### Graph Attention Network (GAT)"
   ]
  },
  {
   "cell_type": "code",
   "execution_count": 46,
   "id": "united-hormone",
   "metadata": {},
   "outputs": [],
   "source": [
    "# Build GAT (CiteSeer)\n",
    "\n",
    "GAT_model, gat_optimizer = build_graphsage_model(citeseer_data, num_hidden=8, dropout=0.5, lr=0.05)\n",
    "criterion = nn.CrossEntropyLoss()"
   ]
  },
  {
   "cell_type": "code",
   "execution_count": 47,
   "id": "medieval-census",
   "metadata": {},
   "outputs": [
    {
     "name": "stdout",
     "output_type": "stream",
     "text": [
      "Epoch 000:\n",
      "train_loss: 1.7923 train_acc: 0.1667\n",
      "val_loss: 1.7987 val_acc: 0.0770\n",
      "\n",
      "Epoch 005:\n",
      "train_loss: 1.7755 train_acc: 0.4333\n",
      "val_loss: 1.7891 val_acc: 0.2060\n",
      "\n",
      "Epoch 010:\n",
      "train_loss: 1.7095 train_acc: 0.4500\n",
      "val_loss: 1.7721 val_acc: 0.3140\n",
      "\n",
      "Epoch 015:\n",
      "train_loss: 1.5846 train_acc: 0.5000\n",
      "val_loss: 1.7421 val_acc: 0.3180\n",
      "\n",
      "Epoch 020:\n",
      "train_loss: 1.4976 train_acc: 0.6583\n",
      "val_loss: 1.6945 val_acc: 0.3580\n",
      "\n",
      "Epoch 025:\n",
      "train_loss: 1.3798 train_acc: 0.9417\n",
      "val_loss: 1.6477 val_acc: 0.4950\n",
      "\n",
      "Epoch 030:\n",
      "train_loss: 1.2873 train_acc: 0.9917\n",
      "val_loss: 1.6030 val_acc: 0.6220\n",
      "\n",
      "Epoch 035:\n",
      "train_loss: 1.1979 train_acc: 1.0000\n",
      "val_loss: 1.5605 val_acc: 0.6620\n",
      "\n",
      "Epoch 040:\n",
      "train_loss: 1.1509 train_acc: 1.0000\n",
      "val_loss: 1.5337 val_acc: 0.6770\n",
      "\n",
      "Epoch 045:\n",
      "train_loss: 1.1275 train_acc: 1.0000\n",
      "val_loss: 1.5118 val_acc: 0.7030\n",
      "\n",
      "Epoch 050:\n",
      "train_loss: 1.1149 train_acc: 1.0000\n",
      "val_loss: 1.5047 val_acc: 0.7060\n",
      "\n",
      "Epoch 055:\n",
      "train_loss: 1.1065 train_acc: 1.0000\n",
      "val_loss: 1.4978 val_acc: 0.7050\n",
      "\n",
      "Epoch 060:\n",
      "train_loss: 1.0999 train_acc: 1.0000\n",
      "val_loss: 1.4943 val_acc: 0.7000\n",
      "\n",
      "Epoch 065:\n",
      "train_loss: 1.0959 train_acc: 1.0000\n",
      "val_loss: 1.4917 val_acc: 0.7010\n",
      "\n",
      "Epoch 070:\n",
      "train_loss: 1.0930 train_acc: 1.0000\n",
      "val_loss: 1.4909 val_acc: 0.7040\n",
      "\n",
      "Epoch 075:\n",
      "train_loss: 1.0909 train_acc: 1.0000\n",
      "val_loss: 1.4892 val_acc: 0.7000\n",
      "\n",
      "Epoch 080:\n",
      "train_loss: 1.0900 train_acc: 1.0000\n",
      "val_loss: 1.4885 val_acc: 0.7020\n",
      "\n",
      "Epoch 085:\n",
      "train_loss: 1.0897 train_acc: 1.0000\n",
      "val_loss: 1.4888 val_acc: 0.7050\n",
      "\n",
      "Epoch 090:\n",
      "train_loss: 1.0895 train_acc: 1.0000\n",
      "val_loss: 1.4898 val_acc: 0.7050\n",
      "\n",
      "Epoch 095:\n",
      "train_loss: 1.0898 train_acc: 1.0000\n",
      "val_loss: 1.4899 val_acc: 0.7010\n",
      "\n",
      "Model Trained\n"
     ]
    }
   ],
   "source": [
    "# Train GAT Model (CiteSeer)\n",
    "\n",
    "train_loss_arr = []\n",
    "train_acc_arr = []\n",
    "val_loss_arr = []\n",
    "val_acc_arr = []\n",
    "\n",
    "GAT_model.train()\n",
    "\n",
    "# epochs\n",
    "for epoch in range(100):\n",
    "    out = GAT_model(citeseer)\n",
    "    loss = criterion(out[citeseer.train_mask], citeseer.y[citeseer.train_mask])\n",
    "    gat_optimizer.zero_grad()\n",
    "    loss.backward()\n",
    "    gat_optimizer.step()\n",
    "    \n",
    "    _, pred = torch.max(out[citeseer.train_mask], dim=1)\n",
    "    correct = (pred == citeseer.y[citeseer.train_mask]).sum().item()\n",
    "    acc = correct/citeseer.train_mask.sum().item()\n",
    "    \n",
    "    train_loss_arr.append(loss.item())\n",
    "    train_acc_arr.append(acc)\n",
    "    \n",
    "    if epoch%5 == 0:\n",
    "        print('Epoch {:03d}:'.format(epoch))\n",
    "        print('train_loss: {:.4f} train_acc: {:.4f}'.format(loss.item(), acc))\n",
    "        \n",
    "    GAT_model.eval()\n",
    "    out = GAT_model(citeseer)\n",
    "    loss = criterion(out[citeseer.test_mask], citeseer.y[citeseer.test_mask])\n",
    "    _, pred = torch.max(out[citeseer.test_mask], dim=1)\n",
    "    correct = (pred == citeseer.y[citeseer.test_mask]).sum().item()\n",
    "    acc = correct / citeseer.test_mask.sum().item()\n",
    "    \n",
    "    val_loss_arr.append(loss.item())\n",
    "    val_acc_arr.append(acc)\n",
    "    \n",
    "    if epoch%5 == 0:\n",
    "        print(\"val_loss: {:.4f} val_acc: {:.4f}\".format(loss.item(), acc))\n",
    "        print()\n",
    "        \n",
    "print(\"Model Trained\")"
   ]
  },
  {
   "cell_type": "code",
   "execution_count": 48,
   "id": "musical-variable",
   "metadata": {},
   "outputs": [
    {
     "data": {
      "text/plain": [
       "<matplotlib.legend.Legend at 0x12ed6d490>"
      ]
     },
     "execution_count": 48,
     "metadata": {},
     "output_type": "execute_result"
    },
    {
     "data": {
      "image/png": "[encoded data removed]",
      "text/plain": [
       "<Figure size 432x288 with 1 Axes>"
      ]
     },
     "metadata": {
      "needs_background": "light"
     },
     "output_type": "display_data"
    }
   ],
   "source": [
    "# Evaluate GAT Model (CiteSeer)\n",
    "\n",
    "plt.figure(1)\n",
    "plt.plot(train_loss_arr)\n",
    "plt.plot(val_loss_arr)\n",
    "plt.title('model loss vs epochs')\n",
    "plt.ylabel('loss')\n",
    "plt.xlabel('epoch')\n",
    "plt.xticks([5, 10, 15, 20, 25, 30, 35, 40, 45, 50, 55, 60, 65, 70, 75, 80, 85, 90, 95, 100])\n",
    "plt.legend(['train', 'validation'], loc='upper left')"
   ]
  },
  {
   "cell_type": "code",
   "execution_count": 49,
   "id": "cc48a924",
   "metadata": {},
   "outputs": [
    {
     "data": {
      "text/plain": [
       "<matplotlib.legend.Legend at 0x12ea29be0>"
      ]
     },
     "execution_count": 49,
     "metadata": {},
     "output_type": "execute_result"
    },
    {
     "data": {
      "image/png": "[encoded data removed]",
      "text/plain": [
       "<Figure size 432x288 with 1 Axes>"
      ]
     },
     "metadata": {
      "needs_background": "light"
     },
     "output_type": "display_data"
    }
   ],
   "source": [
    "plt.figure(1)\n",
    "plt.plot(train_acc_arr)\n",
    "plt.plot(val_acc_arr)\n",
    "plt.title('model accuracy vs epochs')\n",
    "plt.ylabel('accuracy')\n",
    "plt.xlabel('epoch')\n",
    "plt.xticks([5, 10, 15, 20, 25, 30, 35, 40, 45, 50, 55, 60, 65, 70, 75, 80, 85, 90, 95, 100])\n",
    "plt.legend(['train', 'validation'], loc='upper left')"
   ]
  },
  {
   "cell_type": "code",
   "execution_count": 50,
   "id": "67e74eb3",
   "metadata": {
    "scrolled": true
   },
   "outputs": [
    {
     "name": "stdout",
     "output_type": "stream",
     "text": [
      "test_loss: 1.4901 test_acc: 0.7020\n"
     ]
    }
   ],
   "source": [
    "print(\"test_loss: {:.4f} test_acc: {:.4f}\".format(loss.item(), acc))"
   ]
  },
  {
   "cell_type": "code",
   "execution_count": 51,
   "id": "d41c7519",
   "metadata": {},
   "outputs": [
    {
     "name": "stderr",
     "output_type": "stream",
     "text": [
      "/var/folders/1f/gg6wtk9n3yj9dh3mbt8dfd000000gn/T/ipykernel_5949/3689067437.py:3: SettingWithCopyWarning: \n",
      "A value is trying to be set on a copy of a slice from a DataFrame\n",
      "\n",
      "See the caveats in the documentation: https://pandas.pydata.org/pandas-docs/stable/user_guide/indexing.html#returning-a-view-versus-a-copy\n",
      "  citeseer_df['Test Loss'][2] = loss.item()\n",
      "/var/folders/1f/gg6wtk9n3yj9dh3mbt8dfd000000gn/T/ipykernel_5949/3689067437.py:4: SettingWithCopyWarning: \n",
      "A value is trying to be set on a copy of a slice from a DataFrame\n",
      "\n",
      "See the caveats in the documentation: https://pandas.pydata.org/pandas-docs/stable/user_guide/indexing.html#returning-a-view-versus-a-copy\n",
      "  citeseer_df['Test Accuracy'][2] = acc\n"
     ]
    }
   ],
   "source": [
    "# add test loss and accuracy values to table\n",
    "\n",
    "citeseer_df['Test Loss'][2] = loss.item()\n",
    "citeseer_df['Test Accuracy'][2] = acc"
   ]
  },
  {
   "cell_type": "code",
   "execution_count": 52,
   "id": "79d5a218",
   "metadata": {},
   "outputs": [
    {
     "name": "stdout",
     "output_type": "stream",
     "text": [
      "       Model  Test Loss  Test Accuracy\n",
      "0        GCN   1.007584          0.686\n",
      "1  GraphSAGE   1.492149          0.695\n",
      "2        GAT   1.490107          0.702\n"
     ]
    }
   ],
   "source": [
    "print(citeseer_df)"
   ]
  },
  {
   "cell_type": "code",
   "execution_count": 53,
   "id": "66cfe419",
   "metadata": {},
   "outputs": [
    {
     "name": "stdout",
     "output_type": "stream",
     "text": [
      "       Model  Test Loss  Test Accuracy\n",
      "0        GCN   0.772594          0.775\n",
      "1  GraphSAGE   1.499864          0.795\n",
      "2        GAT   1.508257          0.791\n"
     ]
    }
   ],
   "source": [
    "print(cora_df)"
   ]
  }
 ],
 "metadata": {
  "kernelspec": {
   "display_name": "Python 3 (ipykernel)",
   "language": "python",
   "name": "python3"
  },
  "language_info": {
   "codemirror_mode": {
    "name": "ipython",
    "version": 3
   },
   "file_extension": ".py",
   "mimetype": "text/x-python",
   "name": "python",
   "nbconvert_exporter": "python",
   "pygments_lexer": "ipython3",
   "version": "3.8.12"
  }
 },
 "nbformat": 4,
 "nbformat_minor": 5
}
